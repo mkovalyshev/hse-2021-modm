{
 "cells": [
  {
   "cell_type": "code",
   "execution_count": 94,
   "id": "889380d6",
   "metadata": {},
   "outputs": [],
   "source": [
    "%config IPCompleter.use_jedi = False"
   ]
  },
  {
   "cell_type": "code",
   "execution_count": 95,
   "id": "b6761d09",
   "metadata": {},
   "outputs": [],
   "source": [
    "import pandas as pd\n",
    "import numpy as np\n",
    "import math"
   ]
  },
  {
   "cell_type": "code",
   "execution_count": 96,
   "id": "c117c62c",
   "metadata": {},
   "outputs": [],
   "source": [
    "parties_df_raw = pd.read_html('https://ru.wikipedia.org/wiki/%D0%9F%D0%B0%D1%80%D0%BB%D0%B0%D0%BC%D0%B5%D0%BD%D1%82%D1%81%D0%BA%D0%B8%D0%B5_%D0%B2%D1%8B%D0%B1%D0%BE%D1%80%D1%8B_%D0%B2_%D0%91%D0%BE%D0%BB%D0%B3%D0%B0%D1%80%D0%B8%D0%B8_(2017)')[4]"
   ]
  },
  {
   "cell_type": "code",
   "execution_count": 97,
   "id": "ae19f406",
   "metadata": {},
   "outputs": [],
   "source": [
    "parties_df_raw = parties_df_raw.iloc[:5]"
   ]
  },
  {
   "cell_type": "code",
   "execution_count": 98,
   "id": "ed9fabbb",
   "metadata": {},
   "outputs": [],
   "source": [
    "election_dict = {x[0]:int(x[1]) for x in list(parties_df_raw[['Партия',\n",
    "                                                         'Мест']].\\\n",
    "                                         set_index('Партия').\\\n",
    "                                         to_records())}"
   ]
  },
  {
   "cell_type": "code",
   "execution_count": 99,
   "id": "ef4ea7c4",
   "metadata": {},
   "outputs": [
    {
     "data": {
      "text/plain": [
       "{'ГЕРБ': 95,\n",
       " 'БСП за Болгарию': 80,\n",
       " 'Объединённые патриоты': 27,\n",
       " 'Движение за права и свободы': 26,\n",
       " 'Воля': 12}"
      ]
     },
     "execution_count": 99,
     "metadata": {},
     "output_type": "execute_result"
    }
   ],
   "source": [
    "election_dict"
   ]
  },
  {
   "cell_type": "code",
   "execution_count": 100,
   "id": "df3bb6d4",
   "metadata": {},
   "outputs": [],
   "source": [
    "assert sum(list(election_dict.values()))==240\n",
    "# проверка"
   ]
  },
  {
   "cell_type": "code",
   "execution_count": 101,
   "id": "3ba4afa7",
   "metadata": {},
   "outputs": [],
   "source": [
    "QUOTA = math.ceil((240)/2)+1"
   ]
  },
  {
   "cell_type": "code",
   "execution_count": 102,
   "id": "f5f10c41",
   "metadata": {},
   "outputs": [
    {
     "data": {
      "text/plain": [
       "121"
      ]
     },
     "execution_count": 102,
     "metadata": {},
     "output_type": "execute_result"
    }
   ],
   "source": [
    "QUOTA"
   ]
  },
  {
   "cell_type": "code",
   "execution_count": 103,
   "id": "14665476",
   "metadata": {},
   "outputs": [],
   "source": [
    "from itertools import combinations\n",
    "\n",
    "# https://stackoverflow.com/a/24402296\n",
    "combinations = sum([list(map(list, combinations(election_dict, i))) for i in range(len(election_dict) + 1)], [])"
   ]
  },
  {
   "cell_type": "code",
   "execution_count": 104,
   "id": "f91d35fa",
   "metadata": {},
   "outputs": [],
   "source": [
    "combinations_clean = [combination for combination in combinations if len(combination)>1]"
   ]
  },
  {
   "cell_type": "code",
   "execution_count": 105,
   "id": "f3f17586",
   "metadata": {},
   "outputs": [],
   "source": [
    "def get_vote_sum(combination):\n",
    "    vote_sum = 0\n",
    "    for party in combination:\n",
    "        vote_sum += election_dict[party]\n",
    "    return vote_sum"
   ]
  },
  {
   "cell_type": "code",
   "execution_count": 106,
   "id": "59913e01",
   "metadata": {},
   "outputs": [],
   "source": [
    "winning_coalitions = [combination for combination in combinations_clean if get_vote_sum(combination)>=QUOTA]"
   ]
  },
  {
   "cell_type": "code",
   "execution_count": 107,
   "id": "e667431a",
   "metadata": {},
   "outputs": [],
   "source": [
    "def is_pivotal(party, coalition):\n",
    "    if party in coalition:\n",
    "        sum_wout_party = sum([election_dict[element] for element in [prt for prt in coalition if prt != party]])\n",
    "        if sum_wout_party < QUOTA:\n",
    "            return True\n",
    "        else:\n",
    "            return False\n",
    "    else:\n",
    "        return False"
   ]
  },
  {
   "cell_type": "code",
   "execution_count": 108,
   "id": "4dcf1963",
   "metadata": {},
   "outputs": [
    {
     "name": "stdout",
     "output_type": "stream",
     "text": [
      "ГЕРБ 12\n",
      "БСП за Болгарию 4\n",
      "Объединённые патриоты 4\n",
      "Движение за права и свободы 4\n",
      "Воля 0\n"
     ]
    }
   ],
   "source": [
    "for party in list(election_dict.keys()):\n",
    "    res_list = []\n",
    "    for coalition in winning_coalitions:\n",
    "        res_list.append(is_pivotal(party, coalition))\n",
    "    print(party, sum(res_list))"
   ]
  },
  {
   "cell_type": "code",
   "execution_count": 109,
   "id": "640514e4",
   "metadata": {},
   "outputs": [],
   "source": [
    "pivotal = {\n",
    "    'ГЕРБ': 12,\n",
    "    'БСП за Болгарию': 4,\n",
    "    'Объединённые патриоты': 4,\n",
    "    'Движение за права и свободы': 3,\n",
    "    'Воля': 0\n",
    "}"
   ]
  },
  {
   "cell_type": "code",
   "execution_count": 110,
   "id": "35a2be4e",
   "metadata": {},
   "outputs": [],
   "source": [
    "sum_pivot = sum(list(pivotal.values()))"
   ]
  },
  {
   "cell_type": "code",
   "execution_count": 111,
   "id": "77774996",
   "metadata": {},
   "outputs": [],
   "source": [
    "def banzhaf(party, pivotal):\n",
    "    return(pivotal[party]/sum(list(pivotal.values())))\n",
    "    print(party)"
   ]
  },
  {
   "cell_type": "code",
   "execution_count": 112,
   "id": "91f327b5",
   "metadata": {
    "scrolled": true
   },
   "outputs": [],
   "source": [
    "indices = []\n",
    "for party in list(election_dict.keys()):\n",
    "    banzhaf(party, pivotal)\n",
    "    indices.append(banzhaf(party, pivotal))"
   ]
  },
  {
   "cell_type": "code",
   "execution_count": 113,
   "id": "c11b08be",
   "metadata": {},
   "outputs": [
    {
     "data": {
      "text/plain": [
       "1.0"
      ]
     },
     "execution_count": 113,
     "metadata": {},
     "output_type": "execute_result"
    }
   ],
   "source": [
    "sum(indices)"
   ]
  },
  {
   "cell_type": "code",
   "execution_count": 114,
   "id": "021bd82b",
   "metadata": {},
   "outputs": [],
   "source": [
    "def shapley_shubik(party, coalition):\n",
    "    global election_dict\n",
    "    if party in coalition:\n",
    "        if is_pivotal(party, coalition):\n",
    "            n = (len(list(election_dict.keys())))\n",
    "            s = len(coalition)\n",
    "            # print(n, s)\n",
    "            return (math.factorial(n-s)*math.factorial(s-1))/math.factorial(n)\n",
    "        else:\n",
    "            return 0\n",
    "    else:\n",
    "        return 0"
   ]
  },
  {
   "cell_type": "code",
   "execution_count": 115,
   "id": "f61ddae6",
   "metadata": {},
   "outputs": [
    {
     "name": "stdout",
     "output_type": "stream",
     "text": [
      "ГЕРБ 0.49999999999999994\n",
      "БСП за Болгарию 0.16666666666666669\n",
      "Объединённые патриоты 0.16666666666666669\n",
      "Движение за права и свободы 0.16666666666666669\n",
      "Воля 0\n"
     ]
    }
   ],
   "source": [
    "indices = []\n",
    "\n",
    "for party in list(election_dict.keys()):\n",
    "    party_index = 0\n",
    "    for coalition in winning_coalitions:\n",
    "        party_index += shapley_shubik(party, coalition)\n",
    "    print(party, party_index)\n",
    "    indices.append(party_index)"
   ]
  },
  {
   "cell_type": "code",
   "execution_count": 116,
   "id": "56114800",
   "metadata": {},
   "outputs": [
    {
     "data": {
      "text/plain": [
       "1.0"
      ]
     },
     "execution_count": 116,
     "metadata": {},
     "output_type": "execute_result"
    }
   ],
   "source": [
    "sum(indices)"
   ]
  }
 ],
 "metadata": {
  "kernelspec": {
   "display_name": "Python 3",
   "language": "python",
   "name": "python3"
  },
  "language_info": {
   "codemirror_mode": {
    "name": "ipython",
    "version": 3
   },
   "file_extension": ".py",
   "mimetype": "text/x-python",
   "name": "python",
   "nbconvert_exporter": "python",
   "pygments_lexer": "ipython3",
   "version": "3.9.5"
  }
 },
 "nbformat": 4,
 "nbformat_minor": 5
}
