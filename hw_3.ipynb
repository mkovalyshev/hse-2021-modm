{
 "cells": [
  {
   "cell_type": "code",
   "execution_count": 1,
   "id": "d65552d8",
   "metadata": {},
   "outputs": [],
   "source": [
    "# todo:\n",
    "# сделать класс графа с записью вершин вида list of dicts"
   ]
  },
  {
   "cell_type": "code",
   "execution_count": 9,
   "id": "6324918a",
   "metadata": {},
   "outputs": [
    {
     "data": {
      "text/plain": [
       "{frozenset({0.5, 1, 3})}"
      ]
     },
     "execution_count": 9,
     "metadata": {},
     "output_type": "execute_result"
    }
   ],
   "source": [
    "[{'from': 'A',\n",
    "  'to': 'B',\n",
    "  'weight': 0.5}]"
   ]
  },
  {
   "cell_type": "code",
   "execution_count": 14,
   "id": "04230d9a",
   "metadata": {},
   "outputs": [],
   "source": [
    "import numpy as np\n",
    "import pandas as pd"
   ]
  },
  {
   "cell_type": "code",
   "execution_count": 192,
   "id": "cda38add",
   "metadata": {},
   "outputs": [],
   "source": [
    "edges = [\n",
    "    {'from': 1,\n",
    "     'to': 3,\n",
    "     'weight': 1},\n",
    "    {'from': 2,\n",
    "     'to': 4,\n",
    "     'weight': 1},\n",
    "    {'from': 3,\n",
    "     'to': 1,\n",
    "     'weight': 1},\n",
    "    {'from': 3,\n",
    "     'to': 5,\n",
    "     'weight': 1},\n",
    "    {'from': 4,\n",
    "     'to': 2,\n",
    "     'weight': 1},\n",
    "    {'from': 4,\n",
    "     'to': 3,\n",
    "     'weight': 1},\n",
    "    {'from': 5,\n",
    "     'to': 3,\n",
    "     'weight': 1},\n",
    "    {'from': 5,\n",
    "     'to': 4,\n",
    "     'weight': 1}\n",
    "]"
   ]
  },
  {
   "cell_type": "code",
   "execution_count": 193,
   "id": "875d997b",
   "metadata": {},
   "outputs": [],
   "source": [
    "def matrix_size(edges):\n",
    "    values = []\n",
    "    for edge in edges:\n",
    "        values.append(max([edge['from'], edge['to']]))\n",
    "    return max(values)"
   ]
  },
  {
   "cell_type": "code",
   "execution_count": 194,
   "id": "d45d7e74",
   "metadata": {},
   "outputs": [],
   "source": [
    "class Graph:\n",
    "    def __init__(self, edges):\n",
    "        self.edges = sorted(edges, key=lambda x: x['from'])\n",
    "        self.n = matrix_size(self.edges)\n",
    "        self.adjacency_matrix = np.array([[0 for x in range(n)] for y in range(n)])\n",
    "        for edge in sorted(self.edges, key=lambda x: x['from']):\n",
    "            self.adjacency_matrix[edge['from']-1][edge['to']-1] = edge['weight']\n",
    "            \n",
    "            \n",
    "    def pagerank(self, base, discount):\n",
    "        global pagerank\n",
    "        pagerank_dict = dict()\n",
    "        for i in range(n):\n",
    "            rank = base\n",
    "            for node in np.where(self.adjacency_matrix[:, i] == 1)[0]:\n",
    "                rank += 1/sum(self.adjacency_matrix[node])*discount\n",
    "            print('Pagerank (first step) for edge', i+1, '=', rank)\n",
    "            pagerank_dict[i] = rank\n",
    "        \n",
    "        print('\\n')\n",
    "        \n",
    "        for i in range(n):\n",
    "            rank = pagerank_dict[i]\n",
    "            for node in np.where(self.adjacency_matrix[:, i] == 1)[0]:\n",
    "                rank += pagerank_dict[node]/sum(self.adjacency_matrix[node])*discount\n",
    "            print('Pagerank for edge', i+1, '=', rank)"
   ]
  },
  {
   "cell_type": "code",
   "execution_count": 195,
   "id": "aea92274",
   "metadata": {},
   "outputs": [],
   "source": [
    "graph = Graph(edges)"
   ]
  },
  {
   "cell_type": "code",
   "execution_count": 196,
   "id": "b7bd5d0d",
   "metadata": {},
   "outputs": [
    {
     "data": {
      "text/plain": [
       "array([[0, 0, 1, 0, 0],\n",
       "       [0, 0, 0, 1, 0],\n",
       "       [1, 0, 0, 0, 1],\n",
       "       [0, 1, 1, 0, 0],\n",
       "       [0, 0, 1, 1, 0]])"
      ]
     },
     "execution_count": 196,
     "metadata": {},
     "output_type": "execute_result"
    }
   ],
   "source": [
    "graph.adjacency_matrix"
   ]
  },
  {
   "cell_type": "code",
   "execution_count": 198,
   "id": "e3013ef1",
   "metadata": {},
   "outputs": [
    {
     "name": "stdout",
     "output_type": "stream",
     "text": [
      "Pagerank (first step) for edge 1 = 1.25\n",
      "Pagerank (first step) for edge 2 = 1.25\n",
      "Pagerank (first step) for edge 3 = 2.0\n",
      "Pagerank (first step) for edge 4 = 1.75\n",
      "Pagerank (first step) for edge 5 = 1.25\n",
      "\n",
      "\n",
      "Pagerank for edge 1 = 1.75\n",
      "Pagerank for edge 2 = 1.6875\n",
      "Pagerank for edge 3 = 3.375\n",
      "Pagerank for edge 4 = 2.6875\n",
      "Pagerank for edge 5 = 1.75\n"
     ]
    }
   ],
   "source": [
    "graph.pagerank(1, 0.5)"
   ]
  },
  {
   "cell_type": "code",
   "execution_count": 184,
   "id": "5ee1078e",
   "metadata": {},
   "outputs": [],
   "source": [
    "edges_stas = [\n",
    "    {'from': 1,\n",
    "     'to': 2,\n",
    "     'weight': 1},\n",
    "    {'from': 2,\n",
    "     'to': 1,\n",
    "     'weight': 1},\n",
    "    {'from': 2,\n",
    "     'to': 3,\n",
    "     'weight': 1},\n",
    "    {'from': 3,\n",
    "     'to': 2,\n",
    "     'weight': 1},\n",
    "    {'from': 3,\n",
    "     'to': 4,\n",
    "     'weight': 1},\n",
    "    {'from': 3,\n",
    "     'to': 5,\n",
    "     'weight': 1},\n",
    "    {'from': 4,\n",
    "     'to': 3,\n",
    "     'weight': 1},\n",
    "    {'from': 4,\n",
    "     'to': 5,\n",
    "     'weight': 1},\n",
    "    {'from': 5,\n",
    "     'to': 4,\n",
    "     'weight': 1},\n",
    "]"
   ]
  },
  {
   "cell_type": "code",
   "execution_count": 185,
   "id": "a6996e10",
   "metadata": {},
   "outputs": [],
   "source": [
    "graph_stas = Graph(edges_stas)"
   ]
  },
  {
   "cell_type": "code",
   "execution_count": 186,
   "id": "b0b311c9",
   "metadata": {},
   "outputs": [
    {
     "data": {
      "text/plain": [
       "array([[0, 1, 0, 0, 0],\n",
       "       [1, 0, 1, 0, 0],\n",
       "       [0, 1, 0, 1, 1],\n",
       "       [0, 0, 1, 0, 1],\n",
       "       [0, 0, 0, 1, 0]])"
      ]
     },
     "execution_count": 186,
     "metadata": {},
     "output_type": "execute_result"
    }
   ],
   "source": [
    "graph_stas.adjacency_matrix"
   ]
  },
  {
   "cell_type": "code",
   "execution_count": 191,
   "id": "2b312195",
   "metadata": {},
   "outputs": [
    {
     "name": "stdout",
     "output_type": "stream",
     "text": [
      "Pagerank (first step) for edge 1 = 1.25\n",
      "Pagerank (first step) for edge 2 = 1.6666666666666667\n",
      "Pagerank (first step) for edge 3 = 1.5\n",
      "Pagerank (first step) for edge 4 = 1.6666666666666667\n",
      "Pagerank (first step) for edge 5 = 1.4166666666666667\n",
      "\n",
      "\n",
      "Pagerank for edge 1 = 1.6666666666666667\n",
      "Pagerank for edge 2 = 2.541666666666667\n",
      "Pagerank for edge 3 = 2.3333333333333335\n",
      "Pagerank for edge 4 = 2.625\n",
      "Pagerank for edge 5 = 2.0833333333333335\n"
     ]
    }
   ],
   "source": [
    "graph_stas.pagerank(1, 0.5)"
   ]
  },
  {
   "cell_type": "code",
   "execution_count": null,
   "id": "2d768d6b",
   "metadata": {},
   "outputs": [],
   "source": []
  }
 ],
 "metadata": {
  "kernelspec": {
   "display_name": "Python 3",
   "language": "python",
   "name": "python3"
  },
  "language_info": {
   "codemirror_mode": {
    "name": "ipython",
    "version": 3
   },
   "file_extension": ".py",
   "mimetype": "text/x-python",
   "name": "python",
   "nbconvert_exporter": "python",
   "pygments_lexer": "ipython3",
   "version": "3.9.5"
  }
 },
 "nbformat": 4,
 "nbformat_minor": 5
}
