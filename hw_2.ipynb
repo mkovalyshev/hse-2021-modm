{
 "cells": [
  {
   "cell_type": "code",
   "execution_count": 1,
   "id": "9ea91f39",
   "metadata": {},
   "outputs": [],
   "source": [
    "%config IPCompleter.use_jedi = False"
   ]
  },
  {
   "cell_type": "code",
   "execution_count": 2,
   "id": "de8f63da",
   "metadata": {},
   "outputs": [],
   "source": [
    "import pandas as pd\n",
    "import numpy as np\n",
    "import math"
   ]
  },
  {
   "cell_type": "code",
   "execution_count": 3,
   "id": "e9b6992c",
   "metadata": {},
   "outputs": [],
   "source": [
    "parties_df_raw = pd.read_html('https://ru.wikipedia.org/wiki/%D0%9F%D0%B0%D1%80%D0%BB%D0%B0%D0%BC%D0%B5%D0%BD%D1%82%D1%81%D0%BA%D0%B8%D0%B5_%D0%B2%D1%8B%D0%B1%D0%BE%D1%80%D1%8B_%D0%B2_%D0%91%D0%BE%D0%BB%D0%B3%D0%B0%D1%80%D0%B8%D0%B8_(2017)')[4]"
   ]
  },
  {
   "cell_type": "code",
   "execution_count": 4,
   "id": "96561f1e",
   "metadata": {},
   "outputs": [],
   "source": [
    "parties_df_raw = parties_df_raw.iloc[:5]"
   ]
  },
  {
   "cell_type": "code",
   "execution_count": 185,
   "id": "f91f1012",
   "metadata": {},
   "outputs": [],
   "source": [
    "election_dict = {x[0]:int(x[1]) for x in list(parties_df_raw[['Партия',\n",
    "                                                         'Мест']].\\\n",
    "                                         set_index('Партия').\\\n",
    "                                         to_records())}"
   ]
  },
  {
   "cell_type": "code",
   "execution_count": 186,
   "id": "b7725bc4",
   "metadata": {},
   "outputs": [
    {
     "data": {
      "text/plain": [
       "{'ГЕРБ': 95,\n",
       " 'БСП за Болгарию': 80,\n",
       " 'Объединённые патриоты': 27,\n",
       " 'Движение за права и свободы': 26,\n",
       " 'Воля': 12}"
      ]
     },
     "execution_count": 186,
     "metadata": {},
     "output_type": "execute_result"
    }
   ],
   "source": [
    "election_dict"
   ]
  },
  {
   "cell_type": "code",
   "execution_count": 132,
   "id": "7a74fa4f",
   "metadata": {},
   "outputs": [],
   "source": [
    "election_dict = {'Democratic Party': 55,\n",
    "                 'Party of Industrialists and Entrepreneurs': 11,\n",
    "                 'Agrarian Party': 11,\n",
    "                 'Independents': 48}"
   ]
  },
  {
   "cell_type": "code",
   "execution_count": 187,
   "id": "bbc1b563",
   "metadata": {},
   "outputs": [],
   "source": [
    "assert sum(list(election_dict.values()))==240\n",
    "# проверка"
   ]
  },
  {
   "cell_type": "code",
   "execution_count": 188,
   "id": "0f508555",
   "metadata": {},
   "outputs": [],
   "source": [
    "QUOTA = math.ceil((240)/2)+1"
   ]
  },
  {
   "cell_type": "code",
   "execution_count": 189,
   "id": "2f7a99ec",
   "metadata": {},
   "outputs": [
    {
     "data": {
      "text/plain": [
       "121"
      ]
     },
     "execution_count": 189,
     "metadata": {},
     "output_type": "execute_result"
    }
   ],
   "source": [
    "QUOTA"
   ]
  },
  {
   "cell_type": "code",
   "execution_count": 242,
   "id": "1447b53e",
   "metadata": {},
   "outputs": [],
   "source": [
    "from itertools import combinations\n",
    "\n",
    "# https://stackoverflow.com/a/24402296\n",
    "combinations_ = sum([list(map(list, combinations(election_dict, i))) for i in range(len(election_dict) + 1)], [])"
   ]
  },
  {
   "cell_type": "code",
   "execution_count": 243,
   "id": "ed156dab",
   "metadata": {},
   "outputs": [],
   "source": [
    "combinations_clean = [combination for combination in combinations_ if len(combination)>1]"
   ]
  },
  {
   "cell_type": "code",
   "execution_count": 192,
   "id": "07823c3c",
   "metadata": {},
   "outputs": [],
   "source": [
    "def get_vote_sum(combination):\n",
    "    vote_sum = 0\n",
    "    for party in combination:\n",
    "        vote_sum += election_dict[party]\n",
    "    return vote_sum"
   ]
  },
  {
   "cell_type": "code",
   "execution_count": 193,
   "id": "abcdee82",
   "metadata": {},
   "outputs": [],
   "source": [
    "winning_coalitions = [combination for combination in combinations_clean if get_vote_sum(combination)>=QUOTA]"
   ]
  },
  {
   "cell_type": "code",
   "execution_count": 194,
   "id": "8c61a77a",
   "metadata": {},
   "outputs": [],
   "source": [
    "def is_pivotal(party, coalition):\n",
    "    if party in coalition:\n",
    "        sum_wout_party = sum([election_dict[element] for element in [prt for prt in coalition if prt != party]])\n",
    "        if sum_wout_party < QUOTA:\n",
    "            return True\n",
    "        else:\n",
    "            return False\n",
    "    else:\n",
    "        return False"
   ]
  },
  {
   "cell_type": "code",
   "execution_count": 195,
   "id": "df44df3d",
   "metadata": {},
   "outputs": [],
   "source": [
    "pivotal = {}\n",
    "\n",
    "for party in list(election_dict.keys()):\n",
    "    res_list = []\n",
    "    for coalition in winning_coalitions:\n",
    "        res_list.append(is_pivotal(party, coalition))\n",
    "    pivotal[party] = sum(res_list)"
   ]
  },
  {
   "cell_type": "code",
   "execution_count": 196,
   "id": "5259ce3d",
   "metadata": {},
   "outputs": [
    {
     "data": {
      "text/plain": [
       "{'ГЕРБ': 12,\n",
       " 'БСП за Болгарию': 4,\n",
       " 'Объединённые патриоты': 4,\n",
       " 'Движение за права и свободы': 4,\n",
       " 'Воля': 0}"
      ]
     },
     "execution_count": 196,
     "metadata": {},
     "output_type": "execute_result"
    }
   ],
   "source": [
    "pivotal"
   ]
  },
  {
   "cell_type": "code",
   "execution_count": 197,
   "id": "121ac566",
   "metadata": {},
   "outputs": [],
   "source": [
    "sum_pivot = sum(list(pivotal.values()))"
   ]
  },
  {
   "cell_type": "code",
   "execution_count": 198,
   "id": "33624502",
   "metadata": {},
   "outputs": [],
   "source": [
    "pivotal_list = list()\n",
    "\n",
    "for coalition in winning_coalitions:\n",
    "    coal_list = list()\n",
    "    for party in coalition:\n",
    "        coal_list.append(is_pivotal(party, coalition))\n",
    "    pivotal_list.append(coal_list)"
   ]
  },
  {
   "cell_type": "code",
   "execution_count": 199,
   "id": "e81b9d2d",
   "metadata": {},
   "outputs": [],
   "source": [
    "def is_min_winning(coalition):\n",
    "    bool_list = list()\n",
    "    for party in coalition:\n",
    "        bool_list.append(is_pivotal(party, coalition))\n",
    "    return all(bool_list)"
   ]
  },
  {
   "cell_type": "code",
   "execution_count": 200,
   "id": "6abd0a44",
   "metadata": {},
   "outputs": [],
   "source": [
    "min_winning = [coalition for coalition in winning_coalitions if is_min_winning(coalition)]"
   ]
  },
  {
   "cell_type": "code",
   "execution_count": 296,
   "id": "65208ca4",
   "metadata": {},
   "outputs": [
    {
     "data": {
      "text/plain": [
       "[['ГЕРБ', 'БСП за Болгарию'],\n",
       " ['ГЕРБ', 'Объединённые патриоты'],\n",
       " ['ГЕРБ', 'Движение за права и свободы'],\n",
       " ['БСП за Болгарию', 'Объединённые патриоты', 'Движение за права и свободы']]"
      ]
     },
     "execution_count": 296,
     "metadata": {},
     "output_type": "execute_result"
    }
   ],
   "source": [
    "min_winning"
   ]
  },
  {
   "cell_type": "code",
   "execution_count": 201,
   "id": "2d2302d7",
   "metadata": {},
   "outputs": [],
   "source": [
    "sum_pivotal_hpi = sum([len(coalition) for coalition in min_winning])"
   ]
  },
  {
   "cell_type": "code",
   "execution_count": 202,
   "id": "9a73e990",
   "metadata": {},
   "outputs": [
    {
     "data": {
      "text/plain": [
       "9"
      ]
     },
     "execution_count": 202,
     "metadata": {},
     "output_type": "execute_result"
    }
   ],
   "source": [
    "sum_pivotal_hpi"
   ]
  },
  {
   "cell_type": "code",
   "execution_count": 203,
   "id": "bdf805a0",
   "metadata": {},
   "outputs": [
    {
     "data": {
      "text/plain": [
       "[['ГЕРБ', 'БСП за Болгарию'],\n",
       " ['ГЕРБ', 'Объединённые патриоты'],\n",
       " ['ГЕРБ', 'Движение за права и свободы'],\n",
       " ['БСП за Болгарию', 'Объединённые патриоты', 'Движение за права и свободы']]"
      ]
     },
     "execution_count": 203,
     "metadata": {},
     "output_type": "execute_result"
    }
   ],
   "source": [
    "min_winning"
   ]
  },
  {
   "cell_type": "code",
   "execution_count": 204,
   "id": "3d4c761b",
   "metadata": {},
   "outputs": [],
   "source": [
    "def hpi(party, min_winning):\n",
    "    coal_count = 0\n",
    "    for coalition in min_winning:\n",
    "        if party in coalition:\n",
    "            coal_count += 1\n",
    "    return coal_count/sum([len(coalition) for coalition in min_winning])"
   ]
  },
  {
   "cell_type": "code",
   "execution_count": 205,
   "id": "5cffd60c",
   "metadata": {},
   "outputs": [],
   "source": [
    "# Holler-Packel index"
   ]
  },
  {
   "cell_type": "code",
   "execution_count": 206,
   "id": "740b2735",
   "metadata": {},
   "outputs": [
    {
     "name": "stdout",
     "output_type": "stream",
     "text": [
      "ГЕРБ 0.3333333333333333\n",
      "БСП за Болгарию 0.2222222222222222\n",
      "Объединённые патриоты 0.2222222222222222\n",
      "Движение за права и свободы 0.2222222222222222\n",
      "Воля 0.0\n"
     ]
    }
   ],
   "source": [
    "for party in list(election_dict.keys()):\n",
    "    print(party, hpi(party, min_winning))"
   ]
  },
  {
   "cell_type": "code",
   "execution_count": 207,
   "id": "c7951e5d",
   "metadata": {},
   "outputs": [
    {
     "data": {
      "text/plain": [
       "16"
      ]
     },
     "execution_count": 207,
     "metadata": {},
     "output_type": "execute_result"
    }
   ],
   "source": [
    "len(winning_coalitions)"
   ]
  },
  {
   "cell_type": "code",
   "execution_count": 208,
   "id": "37566c2d",
   "metadata": {},
   "outputs": [],
   "source": [
    "# Coleman index"
   ]
  },
  {
   "cell_type": "code",
   "execution_count": 209,
   "id": "1b84e8aa",
   "metadata": {},
   "outputs": [],
   "source": [
    "def coleman(party, winning_coalitions, pivotal):\n",
    "    return pivotal[party]/len(winning_coalitions)"
   ]
  },
  {
   "cell_type": "code",
   "execution_count": 210,
   "id": "f812d0ba",
   "metadata": {},
   "outputs": [
    {
     "data": {
      "text/plain": [
       "16"
      ]
     },
     "execution_count": 210,
     "metadata": {},
     "output_type": "execute_result"
    }
   ],
   "source": [
    "len(winning_coalitions)"
   ]
  },
  {
   "cell_type": "code",
   "execution_count": 211,
   "id": "f7f3742c",
   "metadata": {},
   "outputs": [
    {
     "name": "stdout",
     "output_type": "stream",
     "text": [
      "ГЕРБ 0.75\n",
      "БСП за Болгарию 0.25\n",
      "Объединённые патриоты 0.25\n",
      "Движение за права и свободы 0.25\n",
      "Воля 0.0\n"
     ]
    }
   ],
   "source": [
    "for party in list(election_dict.keys()):\n",
    "    print(party, coleman(party, winning_coalitions, pivotal))"
   ]
  },
  {
   "cell_type": "code",
   "execution_count": 212,
   "id": "5e82700b",
   "metadata": {},
   "outputs": [],
   "source": [
    "# Johnstone"
   ]
  },
  {
   "cell_type": "code",
   "execution_count": 229,
   "id": "75196457",
   "metadata": {},
   "outputs": [],
   "source": [
    "def johnstone(party, winning_coalitions):\n",
    "    party_ji = 0\n",
    "    for coalition in winning_coalitions:\n",
    "        if party in coalition and is_pivotal(party, coalition):\n",
    "            party_ji += 1/sum([is_pivotal(party, coalition) for party in coalition])\n",
    "    return(party, party_ji)"
   ]
  },
  {
   "cell_type": "code",
   "execution_count": 230,
   "id": "d4e323a2",
   "metadata": {},
   "outputs": [],
   "source": [
    "ji_dict = {johnstone(party, winning_coalitions)[0]: johnstone(party, winning_coalitions)[1] for party in list(election_dict.keys())}"
   ]
  },
  {
   "cell_type": "code",
   "execution_count": 231,
   "id": "07fdde12",
   "metadata": {},
   "outputs": [
    {
     "data": {
      "text/plain": [
       "{'ГЕРБ': 9.0,\n",
       " 'БСП за Болгарию': 1.6666666666666665,\n",
       " 'Объединённые патриоты': 1.6666666666666665,\n",
       " 'Движение за права и свободы': 1.6666666666666665,\n",
       " 'Воля': 0}"
      ]
     },
     "execution_count": 231,
     "metadata": {},
     "output_type": "execute_result"
    }
   ],
   "source": [
    "ji_dict"
   ]
  },
  {
   "cell_type": "code",
   "execution_count": 234,
   "id": "689695d8",
   "metadata": {},
   "outputs": [
    {
     "name": "stdout",
     "output_type": "stream",
     "text": [
      "ГЕРБ 0.6428571428571429\n",
      "БСП за Болгарию 0.11904761904761905\n",
      "Объединённые патриоты 0.11904761904761905\n",
      "Движение за права и свободы 0.11904761904761905\n",
      "Воля 0.0\n"
     ]
    }
   ],
   "source": [
    "for party in list(ji_dict.keys()):\n",
    "    print(party, ji_dict[party]/sum(ji_dict.values()))"
   ]
  },
  {
   "cell_type": "code",
   "execution_count": 235,
   "id": "aac665e6",
   "metadata": {},
   "outputs": [],
   "source": [
    "preference_profiles = [\n",
    "    ['ГЕРБ', 'БСП за Болгарию', 0.1],\n",
    "    ['ГЕРБ', 'Объединённые патриоты', 0.2],\n",
    "    ['ГЕРБ', 'Движение за права и свободы', 0.3],\n",
    "    ['ГЕРБ ', 'Воля ', 0.4],\n",
    "    ['БСП за Болгарию', 'Объединённые патриоты', 0.15],\n",
    "    ['БСП за Болгарию', 'Движение за права и свободы', 0.25],\n",
    "    ['БСП за Болгарию', 'Воля', 0.35],\n",
    "    ['Объединённые патриоты', 'Движение за права и свободы', 0.32],\n",
    "    ['Объединённые патриоты', 'Воля ', 0.58],\n",
    "    ['Движение за права и свободы', 'Воля', 0.9]\n",
    "]"
   ]
  },
  {
   "cell_type": "code",
   "execution_count": 239,
   "id": "3439d82e",
   "metadata": {},
   "outputs": [
    {
     "data": {
      "text/plain": [
       "['ГЕРБ', 'БСП за Болгарию', 'Воля']"
      ]
     },
     "execution_count": 239,
     "metadata": {},
     "output_type": "execute_result"
    }
   ],
   "source": [
    "winning_coalitions[5]"
   ]
  },
  {
   "cell_type": "code",
   "execution_count": 247,
   "id": "ba35c6ac",
   "metadata": {
    "scrolled": true
   },
   "outputs": [
    {
     "data": {
      "text/plain": [
       "[('ГЕРБ', 'БСП за Болгарию'), ('ГЕРБ', 'Воля'), ('БСП за Болгарию', 'Воля')]"
      ]
     },
     "execution_count": 247,
     "metadata": {},
     "output_type": "execute_result"
    }
   ],
   "source": [
    "[combination for combination in combinations(winning_coalitions[5], 2)]"
   ]
  },
  {
   "cell_type": "code",
   "execution_count": 274,
   "id": "256e28a1",
   "metadata": {},
   "outputs": [],
   "source": [
    "def min_pref(coalition):\n",
    "    # print(coalition)\n",
    "    pairs = [combination for combination in combinations(coalition, 2)]\n",
    "    prefs = []\n",
    "    for pair in pairs:\n",
    "        # print(pair)\n",
    "        for profile in preference_profiles:\n",
    "            # print(profile)\n",
    "            if pair[0] and pair[1] in profile:\n",
    "                # print(profile[2])\n",
    "                prefs.append(profile[2])\n",
    "    return min(prefs)"
   ]
  },
  {
   "cell_type": "code",
   "execution_count": 275,
   "id": "914f3063",
   "metadata": {},
   "outputs": [
    {
     "name": "stdout",
     "output_type": "stream",
     "text": [
      "0.15\n"
     ]
    }
   ],
   "source": [
    "print(min_pref(winning_coalitions[13]))"
   ]
  },
  {
   "cell_type": "code",
   "execution_count": 281,
   "id": "c89585a9",
   "metadata": {},
   "outputs": [
    {
     "name": "stdout",
     "output_type": "stream",
     "text": [
      "[['ГЕРБ', 0.47222222222222215], ['БСП за Болгарию', 0.13888888888888887], ['Объединённые патриоты', 0.16666666666666663], ['Движение за права и свободы', 0.2222222222222222], ['Воля', 0.0]]\n"
     ]
    }
   ],
   "source": [
    "indices = []\n",
    "\n",
    "for party in list(election_dict.keys()):\n",
    "    xi_sum = 0\n",
    "    for coalition in winning_coalitions:\n",
    "        if party in coalition and is_pivotal(party, coalition):\n",
    "            xi_sum += min_pref(coalition)\n",
    "    indices.append([party, xi_sum])\n",
    "    \n",
    "print([[index[0], index[1]/sum([index[1] for index in indices])] for index in indices])"
   ]
  },
  {
   "cell_type": "code",
   "execution_count": 279,
   "id": "86f9e6a0",
   "metadata": {},
   "outputs": [
    {
     "data": {
      "text/plain": [
       "[['ГЕРБ', 1.7],\n",
       " ['БСП за Болгарию', 0.5],\n",
       " ['Объединённые патриоты', 0.6],\n",
       " ['Движение за права и свободы', 0.8],\n",
       " ['Воля', 0]]"
      ]
     },
     "execution_count": 279,
     "metadata": {},
     "output_type": "execute_result"
    }
   ],
   "source": [
    "indices"
   ]
  },
  {
   "cell_type": "code",
   "execution_count": 287,
   "id": "16e7b418",
   "metadata": {},
   "outputs": [],
   "source": [
    "aleskerov = {\n",
    "    'ГЕРБ': 0.47222222222222215,\n",
    "    'БСП за Болгарию': 0.13888888888888887,\n",
    "    'Объединённые патриоты': 0.16666666666666663,\n",
    "    'Движение за права и свободы': 0.16666666666666663,\n",
    "    'Воля': 0\n",
    "}"
   ]
  },
  {
   "cell_type": "code",
   "execution_count": 288,
   "id": "7517b1c3",
   "metadata": {},
   "outputs": [],
   "source": [
    "banzhaf = {\n",
    "    'ГЕРБ': 0.5,\n",
    "    'БСП за Болгарию': 0.16666666,\n",
    "    'Объединённые патриоты': 0.16666666,\n",
    "    'Движение за права и свободы': 0.16666666,\n",
    "    'Воля': 0\n",
    "}"
   ]
  },
  {
   "cell_type": "code",
   "execution_count": 291,
   "id": "d499e086",
   "metadata": {},
   "outputs": [
    {
     "name": "stdout",
     "output_type": "stream",
     "text": [
      "ГЕРБ 94.44444444444443\n",
      "БСП за Болгарию 83.3333366666668\n",
      "Объединённые патриоты 100.00000400000013\n",
      "Движение за права и свободы 100.00000400000013\n"
     ]
    },
    {
     "ename": "ZeroDivisionError",
     "evalue": "division by zero",
     "output_type": "error",
     "traceback": [
      "\u001b[1;31m---------------------------------------------------------------------------\u001b[0m",
      "\u001b[1;31mZeroDivisionError\u001b[0m                         Traceback (most recent call last)",
      "\u001b[1;32m<ipython-input-291-3ce79bcdc0c8>\u001b[0m in \u001b[0;36m<module>\u001b[1;34m\u001b[0m\n\u001b[0;32m      1\u001b[0m \u001b[1;32mfor\u001b[0m \u001b[0mparty\u001b[0m \u001b[1;32min\u001b[0m \u001b[0mlist\u001b[0m\u001b[1;33m(\u001b[0m\u001b[0melection_dict\u001b[0m\u001b[1;33m.\u001b[0m\u001b[0mkeys\u001b[0m\u001b[1;33m(\u001b[0m\u001b[1;33m)\u001b[0m\u001b[1;33m)\u001b[0m\u001b[1;33m:\u001b[0m\u001b[1;33m\u001b[0m\u001b[1;33m\u001b[0m\u001b[0m\n\u001b[1;32m----> 2\u001b[1;33m     \u001b[0mprint\u001b[0m\u001b[1;33m(\u001b[0m\u001b[0mparty\u001b[0m\u001b[1;33m,\u001b[0m \u001b[1;33m(\u001b[0m\u001b[0maleskerov\u001b[0m\u001b[1;33m[\u001b[0m\u001b[0mparty\u001b[0m\u001b[1;33m]\u001b[0m\u001b[1;33m/\u001b[0m\u001b[0mbanzhaf\u001b[0m\u001b[1;33m[\u001b[0m\u001b[0mparty\u001b[0m\u001b[1;33m]\u001b[0m\u001b[1;33m)\u001b[0m\u001b[1;33m*\u001b[0m\u001b[1;36m100\u001b[0m\u001b[1;33m)\u001b[0m\u001b[1;33m\u001b[0m\u001b[1;33m\u001b[0m\u001b[0m\n\u001b[0m",
      "\u001b[1;31mZeroDivisionError\u001b[0m: division by zero"
     ]
    }
   ],
   "source": [
    "for party in list(election_dict.keys()):\n",
    "    print(party, (aleskerov[party]/banzhaf[party])*100)"
   ]
  },
  {
   "cell_type": "code",
   "execution_count": 292,
   "id": "d3dd040e",
   "metadata": {},
   "outputs": [],
   "source": [
    "def digen_packel(party, winning_coalitions):\n",
    "    party_dp = 0\n",
    "    for coalition in winning_coalitions:\n",
    "        if party in coalition and is_pivotal(party, coalition) and is_min_winning(coalition):\n",
    "            party_dp += 1/sum([is_pivotal(party, coalition) for party in coalition])\n",
    "    return(party, party_dp)"
   ]
  },
  {
   "cell_type": "code",
   "execution_count": 293,
   "id": "b3156168",
   "metadata": {},
   "outputs": [],
   "source": [
    "dp_dict = {digen_packel(party, winning_coalitions)[0]: digen_packel(party, winning_coalitions)[1] for party in list(election_dict.keys())}"
   ]
  },
  {
   "cell_type": "code",
   "execution_count": 294,
   "id": "ea412716",
   "metadata": {},
   "outputs": [
    {
     "data": {
      "text/plain": [
       "{'ГЕРБ': 1.5,\n",
       " 'БСП за Болгарию': 0.8333333333333333,\n",
       " 'Объединённые патриоты': 0.8333333333333333,\n",
       " 'Движение за права и свободы': 0.8333333333333333,\n",
       " 'Воля': 0}"
      ]
     },
     "execution_count": 294,
     "metadata": {},
     "output_type": "execute_result"
    }
   ],
   "source": [
    "dp_dict"
   ]
  },
  {
   "cell_type": "code",
   "execution_count": 295,
   "id": "71f5d352",
   "metadata": {},
   "outputs": [
    {
     "name": "stdout",
     "output_type": "stream",
     "text": [
      "ГЕРБ 0.3750000000000001\n",
      "БСП за Болгарию 0.20833333333333337\n",
      "Объединённые патриоты 0.20833333333333337\n",
      "Движение за права и свободы 0.20833333333333337\n",
      "Воля 0.0\n"
     ]
    }
   ],
   "source": [
    "for party in list(dp_dict.keys()):\n",
    "    print(party, dp_dict[party]/sum(dp_dict.values()))"
   ]
  },
  {
   "cell_type": "code",
   "execution_count": null,
   "id": "ffdd30b7",
   "metadata": {},
   "outputs": [],
   "source": []
  }
 ],
 "metadata": {
  "kernelspec": {
   "display_name": "Python 3",
   "language": "python",
   "name": "python3"
  },
  "language_info": {
   "codemirror_mode": {
    "name": "ipython",
    "version": 3
   },
   "file_extension": ".py",
   "mimetype": "text/x-python",
   "name": "python",
   "nbconvert_exporter": "python",
   "pygments_lexer": "ipython3",
   "version": "3.9.5"
  }
 },
 "nbformat": 4,
 "nbformat_minor": 5
}
